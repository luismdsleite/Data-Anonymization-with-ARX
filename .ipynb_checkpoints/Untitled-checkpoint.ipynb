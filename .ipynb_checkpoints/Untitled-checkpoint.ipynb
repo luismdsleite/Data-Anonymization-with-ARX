{
 "cells": [
  {
   "cell_type": "code",
   "execution_count": 30,
   "id": "e3d2455b",
   "metadata": {},
   "outputs": [],
   "source": [
    "import matplotlib.pyplot as plt\n",
    "import pandas as pd"
   ]
  },
  {
   "cell_type": "code",
   "execution_count": 31,
   "id": "2be5cdf7",
   "metadata": {},
   "outputs": [],
   "source": [
    "\n",
    "\n",
    "    #for line in reader:\n",
    "        #print(line['Year_Birth'])"
   ]
  },
  {
   "cell_type": "code",
   "execution_count": 32,
   "id": "6620c463",
   "metadata": {},
   "outputs": [
    {
     "data": {
      "text/plain": [
       "(array([4., 0., 0., 0., 0., 1., 0., 0., 0., 2.]),\n",
       " array([2000. , 2000.9, 2001.8, 2002.7, 2003.6, 2004.5, 2005.4, 2006.3,\n",
       "        2007.2, 2008.1, 2009. ]),\n",
       " <BarContainer object of 10 artists>)"
      ]
     },
     "execution_count": 32,
     "metadata": {},
     "output_type": "execute_result"
    },
    {
     "data": {
      "image/png": "[encoded data removed]",
      "text/plain": [
       "<Figure size 432x288 with 1 Axes>"
      ]
     },
     "metadata": {
      "needs_background": "light"
     },
     "output_type": "display_data"
    }
   ],
   "source": [
    "plt.hist([2000,2000,2000,2000,2005,2009,2009])"
   ]
  },
  {
   "cell_type": "code",
   "execution_count": null,
   "id": "c30c2592",
   "metadata": {},
   "outputs": [],
   "source": []
  }
 ],
 "metadata": {
  "kernelspec": {
   "display_name": "Python 3 (ipykernel)",
   "language": "python",
   "name": "python3"
  },
  "language_info": {
   "codemirror_mode": {
    "name": "ipython",
    "version": 3
   },
   "file_extension": ".py",
   "mimetype": "text/x-python",
   "name": "python",
   "nbconvert_exporter": "python",
   "pygments_lexer": "ipython3",
   "version": "3.9.7"
  }
 },
 "nbformat": 4,
 "nbformat_minor": 5
}
